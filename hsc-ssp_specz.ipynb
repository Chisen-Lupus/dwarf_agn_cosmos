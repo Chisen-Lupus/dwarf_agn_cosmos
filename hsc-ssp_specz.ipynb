{
 "cells": [
  {
   "cell_type": "markdown",
   "id": "informed-jurisdiction",
   "metadata": {},
   "source": [
    "### Obtain spectra for the sources and add additional spec-zs from SIMBAD"
   ]
  },
  {
   "cell_type": "code",
   "execution_count": 101,
   "id": "opposed-panama",
   "metadata": {},
   "outputs": [],
   "source": [
    "%matplotlib inline\n",
    "import sys, os, glob\n",
    "\n",
    "from astropy.io import fits, ascii\n",
    "\n",
    "import numpy as np\n",
    "import matplotlib.pyplot as plt\n",
    "from astropy import units as u\n",
    "import astropy.constants as const\n",
    "from astropy.coordinates import SkyCoord, concatenate\n",
    "from astropy import table"
   ]
  },
  {
   "cell_type": "code",
   "execution_count": 102,
   "id": "exclusive-praise",
   "metadata": {},
   "outputs": [],
   "source": [
    "import scienceplots\n",
    "\n",
    "plt.style.use(['bright', 'science', 'no-latex', 'notebook'])"
   ]
  },
  {
   "cell_type": "markdown",
   "id": "satisfactory-chain",
   "metadata": {},
   "source": [
    "### Read the HSC-SSP AGN table:\n",
    "\n",
    "https://ui.adsabs.harvard.edu/abs/2020ApJ...894...24K/abstract"
   ]
  },
  {
   "cell_type": "code",
   "execution_count": 111,
   "id": "ceramic-processing",
   "metadata": {},
   "outputs": [
    {
     "data": {
      "text/html": [
       "<div><i>Table length=491</i>\n",
       "<table id=\"table139809252069328\" class=\"table-striped table-bordered table-condensed\">\n",
       "<thead><tr><th>ID</th><th>RAdeg</th><th>DEdeg</th><th>i-mag</th><th>X-flag</th><th>g-flag</th><th>r-flag</th><th>i-flag</th><th>z-flag</th><th>n-corr</th><th>z</th><th>r_z</th><th>ID-COSMOS2015</th></tr></thead>\n",
       "<thead><tr><th>--</th><th>deg</th><th>deg</th><th>mag</th><th>--</th><th>--</th><th>--</th><th>--</th><th>--</th><th>--</th><th>--</th><th>--</th><th>--</th></tr></thead>\n",
       "<thead><tr><th>int64</th><th>float64</th><th>float64</th><th>float64</th><th>int64</th><th>int64</th><th>int64</th><th>int64</th><th>int64</th><th>int64</th><th>float64</th><th>int64</th><th>int64</th></tr></thead>\n",
       "<tr><td>1</td><td>150.74386</td><td>2.20245</td><td>22.71</td><td>1</td><td>1</td><td>1</td><td>1</td><td>1</td><td>6</td><td>1.561</td><td>3</td><td>594392</td></tr>\n",
       "<tr><td>2</td><td>150.73557</td><td>2.19957</td><td>20.36</td><td>1</td><td>1</td><td>1</td><td>1</td><td>1</td><td>6</td><td>3.499</td><td>1</td><td>592797</td></tr>\n",
       "<tr><td>3</td><td>150.73353</td><td>2.15646</td><td>20.88</td><td>1</td><td>1</td><td>1</td><td>1</td><td>1</td><td>6</td><td>0.977</td><td>1</td><td>565402</td></tr>\n",
       "<tr><td>4</td><td>150.79702</td><td>2.13888</td><td>21.01</td><td>1</td><td>1</td><td>1</td><td>1</td><td>1</td><td>6</td><td>0.573</td><td>1</td><td>552225</td></tr>\n",
       "<tr><td>5</td><td>150.78259</td><td>2.19306</td><td>20.63</td><td>1</td><td>1</td><td>1</td><td>1</td><td>1</td><td>6</td><td>0.585</td><td>1</td><td>589540</td></tr>\n",
       "<tr><td>6</td><td>150.72019</td><td>2.24803</td><td>21.13</td><td>1</td><td>1</td><td>1</td><td>1</td><td>1</td><td>6</td><td>0.664</td><td>1</td><td>625595</td></tr>\n",
       "<tr><td>7</td><td>150.78838</td><td>2.34399</td><td>19.82</td><td>1</td><td>1</td><td>1</td><td>1</td><td>1</td><td>6</td><td>1.964</td><td>1</td><td>689768</td></tr>\n",
       "<tr><td>8</td><td>150.71511</td><td>2.48483</td><td>19.2</td><td>1</td><td>1</td><td>1</td><td>1</td><td>1</td><td>6</td><td>1.999</td><td>1</td><td>782508</td></tr>\n",
       "<tr><td>9</td><td>150.71391</td><td>1.97214</td><td>22.87</td><td>1</td><td>1</td><td>1</td><td>1</td><td>1</td><td>5</td><td>1.474</td><td>3</td><td>445280</td></tr>\n",
       "<tr><td>...</td><td>...</td><td>...</td><td>...</td><td>...</td><td>...</td><td>...</td><td>...</td><td>...</td><td>...</td><td>...</td><td>...</td><td>...</td></tr>\n",
       "<tr><td>482</td><td>149.91036</td><td>2.69558</td><td>21.49</td><td>0</td><td>1</td><td>1</td><td>0</td><td>0</td><td>1</td><td>0.851</td><td>4</td><td>921254</td></tr>\n",
       "<tr><td>483</td><td>150.55083</td><td>2.68288</td><td>23.63</td><td>0</td><td>0</td><td>1</td><td>1</td><td>0</td><td>1</td><td>3.493</td><td>4</td><td>910341</td></tr>\n",
       "<tr><td>484</td><td>150.32241</td><td>2.04128</td><td>25.31</td><td>0</td><td>0</td><td>1</td><td>1</td><td>0</td><td>1</td><td>2.771</td><td>4</td><td>487018</td></tr>\n",
       "<tr><td>485</td><td>150.09361</td><td>2.23721</td><td>22.31</td><td>0</td><td>0</td><td>1</td><td>1</td><td>0</td><td>1</td><td>1.175</td><td>1</td><td>617721</td></tr>\n",
       "<tr><td>486</td><td>149.69403</td><td>2.33439</td><td>23.52</td><td>0</td><td>0</td><td>0</td><td>1</td><td>1</td><td>1</td><td>0.497</td><td>4</td><td>681801</td></tr>\n",
       "<tr><td>487</td><td>149.58882</td><td>2.49681</td><td>23.09</td><td>0</td><td>1</td><td>0</td><td>1</td><td>0</td><td>1</td><td>1.217</td><td>4</td><td>789561</td></tr>\n",
       "<tr><td>488</td><td>150.28975</td><td>2.75321</td><td>23.69</td><td>0</td><td>0</td><td>1</td><td>0</td><td>1</td><td>1</td><td>1.914</td><td>4</td><td>954735</td></tr>\n",
       "<tr><td>489</td><td>150.24965</td><td>1.95294</td><td>22.48</td><td>0</td><td>1</td><td>0</td><td>0</td><td>1</td><td>1</td><td>1.107</td><td>1</td><td>432897</td></tr>\n",
       "<tr><td>490</td><td>150.16971</td><td>2.78131</td><td>20.79</td><td>0</td><td>1</td><td>0</td><td>0</td><td>1</td><td>1</td><td>0.71</td><td>4</td><td>973742</td></tr>\n",
       "<tr><td>491</td><td>150.03524</td><td>2.72781</td><td>21.04</td><td>0</td><td>1</td><td>0</td><td>0</td><td>1</td><td>1</td><td>0.509</td><td>1</td><td>940746</td></tr>\n",
       "</table></div>"
      ],
      "text/plain": [
       "<Table length=491>\n",
       "  ID    RAdeg    DEdeg   i-mag  X-flag ... n-corr    z     r_z  ID-COSMOS2015\n",
       "  --     deg      deg     mag     --   ...   --      --     --        --     \n",
       "int64  float64  float64 float64 int64  ... int64  float64 int64     int64    \n",
       "----- --------- ------- ------- ------ ... ------ ------- ----- -------------\n",
       "    1 150.74386 2.20245   22.71      1 ...      6   1.561     3        594392\n",
       "    2 150.73557 2.19957   20.36      1 ...      6   3.499     1        592797\n",
       "    3 150.73353 2.15646   20.88      1 ...      6   0.977     1        565402\n",
       "    4 150.79702 2.13888   21.01      1 ...      6   0.573     1        552225\n",
       "    5 150.78259 2.19306   20.63      1 ...      6   0.585     1        589540\n",
       "    6 150.72019 2.24803   21.13      1 ...      6   0.664     1        625595\n",
       "    7 150.78838 2.34399   19.82      1 ...      6   1.964     1        689768\n",
       "    8 150.71511 2.48483    19.2      1 ...      6   1.999     1        782508\n",
       "    9 150.71391 1.97214   22.87      1 ...      5   1.474     3        445280\n",
       "  ...       ...     ...     ...    ... ...    ...     ...   ...           ...\n",
       "  482 149.91036 2.69558   21.49      0 ...      1   0.851     4        921254\n",
       "  483 150.55083 2.68288   23.63      0 ...      1   3.493     4        910341\n",
       "  484 150.32241 2.04128   25.31      0 ...      1   2.771     4        487018\n",
       "  485 150.09361 2.23721   22.31      0 ...      1   1.175     1        617721\n",
       "  486 149.69403 2.33439   23.52      0 ...      1   0.497     4        681801\n",
       "  487 149.58882 2.49681   23.09      0 ...      1   1.217     4        789561\n",
       "  488 150.28975 2.75321   23.69      0 ...      1   1.914     4        954735\n",
       "  489 150.24965 1.95294   22.48      0 ...      1   1.107     1        432897\n",
       "  490 150.16971 2.78131   20.79      0 ...      1    0.71     4        973742\n",
       "  491 150.03524 2.72781   21.04      0 ...      1   0.509     1        940746"
      ]
     },
     "execution_count": 111,
     "metadata": {},
     "output_type": "execute_result"
    }
   ],
   "source": [
    "# Read HSC-SSP AGNs\n",
    "data_agn = ascii.read('hsc_agn.txt')\n",
    "cat_agn = SkyCoord(data_agn['RAdeg'], data_agn['DEdeg'], unit='deg')\n",
    "data_agn"
   ]
  },
  {
   "cell_type": "markdown",
   "id": "affecting-scanning",
   "metadata": {},
   "source": [
    "1: spectroscopic redshift from the HSC catalog,\n",
    "\n",
    "2: spectroscopic redshift from the DEIMOS catalog,\n",
    "\n",
    "3: photometric redshift from z_best in the Chandra catalog,\n",
    "\n",
    "4: photometric redshift from ZPDF in the COSMOS2015 catalog.\n",
    "\n",
    "There are still more with spectra than it appears this table!\n",
    "\n",
    "### Match to SIMBAD"
   ]
  },
  {
   "cell_type": "code",
   "execution_count": 95,
   "id": "undefined-tanzania",
   "metadata": {},
   "outputs": [
    {
     "name": "stdout",
     "output_type": "stream",
     "text": [
      "98\n"
     ]
    }
   ],
   "source": [
    "print(len(cat_agn[~mask_specz]))"
   ]
  },
  {
   "cell_type": "code",
   "execution_count": 96,
   "id": "developed-ribbon",
   "metadata": {},
   "outputs": [
    {
     "name": "stdout",
     "output_type": "stream",
     "text": [
      "337\n",
      "312\n"
     ]
    },
    {
     "data": {
      "text/html": [
       "<div><i>Table length=504</i>\n",
       "<table id=\"table139809254088848\" class=\"table-striped table-bordered table-condensed\">\n",
       "<thead><tr><th>MAIN_ID</th><th>RA</th><th>DEC</th><th>RA_PREC</th><th>DEC_PREC</th><th>COO_ERR_MAJA</th><th>COO_ERR_MINA</th><th>COO_ERR_ANGLE</th><th>COO_QUAL</th><th>COO_WAVELENGTH</th><th>COO_BIBCODE</th><th>RVZ_QUAL</th><th>RVZ_WAVELENGTH</th><th>Z_VALUE</th><th>SCRIPT_NUMBER_ID</th></tr></thead>\n",
       "<thead><tr><th></th><th>&quot;h:m:s&quot;</th><th>&quot;d:m:s&quot;</th><th></th><th></th><th>mas</th><th>mas</th><th>deg</th><th></th><th></th><th></th><th></th><th></th><th></th><th></th></tr></thead>\n",
       "<thead><tr><th>object</th><th>str13</th><th>str13</th><th>int16</th><th>int16</th><th>float32</th><th>float32</th><th>int16</th><th>str1</th><th>str1</th><th>object</th><th>str1</th><th>str1</th><th>float64</th><th>int32</th></tr></thead>\n",
       "<tr><td>COSMOS2015 594392</td><td>10 02 58.52</td><td>+02 12 08.9</td><td>6</td><td>6</td><td>--</td><td>--</td><td>0</td><td>C</td><td>O</td><td>2007ApJS..172...99C</td><td>E</td><td></td><td>1.7643000</td><td>1</td></tr>\n",
       "<tr><td>SDSS J100256.53+021158.4</td><td>10 02 56.5328</td><td>+02 11 58.411</td><td>14</td><td>14</td><td>1.883</td><td>1.219</td><td>90</td><td>A</td><td>O</td><td>2020yCat.1350....0G</td><td>C</td><td>O</td><td>3.5026000</td><td>2</td></tr>\n",
       "<tr><td>SDSS J100256.04+020923.2</td><td>10 02 56.045</td><td>+02 09 23.22</td><td>7</td><td>7</td><td>68.000</td><td>63.000</td><td>0</td><td>C</td><td>O</td><td>2009ApJS..182..543A</td><td>D</td><td>O</td><td>0.9790000</td><td>3</td></tr>\n",
       "<tr><td>COSMOS2015 552225</td><td>10 03 11.27</td><td>+02 08 20.1</td><td>6</td><td>6</td><td>--</td><td>--</td><td>0</td><td>C</td><td>O</td><td>2007ApJS..172...99C</td><td>D</td><td>O</td><td>0.5727000</td><td>4</td></tr>\n",
       "<tr><td>SDSS J100307.82+021134.9</td><td>10 03 07.825</td><td>+02 11 34.98</td><td>7</td><td>7</td><td>78.000</td><td>76.000</td><td>0</td><td>C</td><td>O</td><td>2009ApJS..182..543A</td><td>C</td><td>O</td><td>0.5824000</td><td>5</td></tr>\n",
       "<tr><td>SDSS J100252.84+021452.8</td><td>10 02 52.841</td><td>+02 14 52.80</td><td>7</td><td>7</td><td>76.000</td><td>62.000</td><td>0</td><td>C</td><td>O</td><td>2009ApJS..182..543A</td><td>C</td><td>O</td><td>0.6652000</td><td>6</td></tr>\n",
       "<tr><td>[VV2006] J100309.2+022038</td><td>10 03 09.2100</td><td>+02 20 38.330</td><td>14</td><td>14</td><td>0.523</td><td>0.504</td><td>90</td><td>A</td><td>O</td><td>2020yCat.1350....0G</td><td>D</td><td>O</td><td>1.9555000</td><td>7</td></tr>\n",
       "<tr><td>[VV2006] J100251.7+022905</td><td>10 02 51.6243</td><td>+02 29 05.367</td><td>14</td><td>14</td><td>0.291</td><td>0.298</td><td>90</td><td>A</td><td>O</td><td>2020yCat.1350....0G</td><td>D</td><td>O</td><td>2.0051000</td><td>8</td></tr>\n",
       "<tr><td>ACS-GC 20054580</td><td>10 02 51.34</td><td>+01 58 20.0</td><td>6</td><td>6</td><td>--</td><td>--</td><td>0</td><td>C</td><td>O</td><td>2007ApJS..172...99C</td><td>E</td><td></td><td>1.6974000</td><td>9</td></tr>\n",
       "<tr><td>...</td><td>...</td><td>...</td><td>...</td><td>...</td><td>...</td><td>...</td><td>...</td><td>...</td><td>...</td><td>...</td><td>...</td><td>...</td><td>...</td><td>...</td></tr>\n",
       "<tr><td>COSMOS2015 921254</td><td>09 59 38.47</td><td>+02 41 44.1</td><td>6</td><td>6</td><td>--</td><td>--</td><td>0</td><td>C</td><td>O</td><td>2007ApJS..172...99C</td><td>D</td><td>O</td><td>0.8937700</td><td>482</td></tr>\n",
       "<tr><td>COSMOS2015 910341</td><td>10 02 12.19</td><td>+02 40 58.5</td><td>6</td><td>6</td><td>--</td><td>--</td><td>0</td><td>C</td><td>O</td><td>2007ApJS..172...99C</td><td>E</td><td></td><td>0.4317000</td><td>483</td></tr>\n",
       "<tr><td>COSMOS2015 487018</td><td>10 01 17.37</td><td>+02 02 28.6</td><td>6</td><td>6</td><td>--</td><td>--</td><td>0</td><td>C</td><td>O</td><td>2007ApJS..172...99C</td><td>E</td><td></td><td>2.6227000</td><td>484</td></tr>\n",
       "<tr><td>CANDELS COSMOS F160W J100022.46+021413.9</td><td>10 00 22.471</td><td>+02 14 14.05</td><td>7</td><td>7</td><td>--</td><td>--</td><td>0</td><td>C</td><td>O</td><td>2009ApJS..184..218L</td><td>D</td><td>O</td><td>1.4373000</td><td>485</td></tr>\n",
       "<tr><td>COSMOS2015 681801</td><td>09 58 46.56</td><td>+02 20 04.0</td><td>6</td><td>6</td><td>--</td><td>--</td><td>0</td><td>C</td><td>O</td><td>2007ApJS..172...99C</td><td>E</td><td></td><td>0.5063000</td><td>486</td></tr>\n",
       "<tr><td>COSMOS2015 789561</td><td>09 58 21.32</td><td>+02 29 48.4</td><td>6</td><td>6</td><td>--</td><td>--</td><td>0</td><td>C</td><td>O</td><td>2007ApJS..172...99C</td><td>E</td><td></td><td>1.1541000</td><td>487</td></tr>\n",
       "<tr><td>COSMOS2015 954735</td><td>10 01 09.53</td><td>+02 45 11.7</td><td>6</td><td>6</td><td>--</td><td>--</td><td>0</td><td>C</td><td>O</td><td>2007ApJS..172...99C</td><td>E</td><td></td><td>1.6359000</td><td>488</td></tr>\n",
       "<tr><td>COSMOS2015 432897</td><td>10 00 59.91</td><td>+01 57 10.5</td><td>6</td><td>6</td><td>--</td><td>--</td><td>0</td><td>C</td><td>O</td><td>2007ApJS..172...99C</td><td>E</td><td></td><td>1.1106000</td><td>489</td></tr>\n",
       "<tr><td>COSMOS2015 973742</td><td>10 00 40.72</td><td>+02 46 52.8</td><td>6</td><td>6</td><td>--</td><td>--</td><td>0</td><td>C</td><td>O</td><td>2007ApJS..172...99C</td><td>D</td><td>O</td><td>0.7248880</td><td>490</td></tr>\n",
       "<tr><td>COSMOS2015 940746</td><td>10 00 08.44</td><td>+02 43 40.2</td><td>6</td><td>6</td><td>--</td><td>--</td><td>0</td><td>C</td><td>O</td><td>2007ApJS..172...99C</td><td>E</td><td></td><td>0.4977000</td><td>491</td></tr>\n",
       "</table></div>"
      ],
      "text/plain": [
       "<Table length=504>\n",
       "                MAIN_ID                        RA      ... SCRIPT_NUMBER_ID\n",
       "                                            \"h:m:s\"    ...                 \n",
       "                 object                      str13     ...      int32      \n",
       "---------------------------------------- ------------- ... ----------------\n",
       "                       COSMOS2015 594392   10 02 58.52 ...                1\n",
       "                SDSS J100256.53+021158.4 10 02 56.5328 ...                2\n",
       "                SDSS J100256.04+020923.2  10 02 56.045 ...                3\n",
       "                       COSMOS2015 552225   10 03 11.27 ...                4\n",
       "                SDSS J100307.82+021134.9  10 03 07.825 ...                5\n",
       "                SDSS J100252.84+021452.8  10 02 52.841 ...                6\n",
       "               [VV2006] J100309.2+022038 10 03 09.2100 ...                7\n",
       "               [VV2006] J100251.7+022905 10 02 51.6243 ...                8\n",
       "                         ACS-GC 20054580   10 02 51.34 ...                9\n",
       "                                     ...           ... ...              ...\n",
       "                       COSMOS2015 921254   09 59 38.47 ...              482\n",
       "                       COSMOS2015 910341   10 02 12.19 ...              483\n",
       "                       COSMOS2015 487018   10 01 17.37 ...              484\n",
       "CANDELS COSMOS F160W J100022.46+021413.9  10 00 22.471 ...              485\n",
       "                       COSMOS2015 681801   09 58 46.56 ...              486\n",
       "                       COSMOS2015 789561   09 58 21.32 ...              487\n",
       "                       COSMOS2015 954735   10 01 09.53 ...              488\n",
       "                       COSMOS2015 432897   10 00 59.91 ...              489\n",
       "                       COSMOS2015 973742   10 00 40.72 ...              490\n",
       "                       COSMOS2015 940746   10 00 08.44 ...              491"
      ]
     },
     "execution_count": 96,
     "metadata": {},
     "output_type": "execute_result"
    }
   ],
   "source": [
    "mask_specz = data_agn['r_z'] < 3\n",
    "\n",
    "print(len(data_agn[mask_specz]))\n",
    "\n",
    "from astroquery.simbad import Simbad\n",
    "\n",
    "# Add the redshift information\n",
    "customSimbad = Simbad()\n",
    "customSimbad.add_votable_fields('rvz_qual','rvz_wavelength','z_value')\n",
    "\n",
    "result_table = customSimbad.query_region(cat_agn, radius=1*u.arcsec)\n",
    "\n",
    "# Sources with RVZ_WAVELENGTH == 'O' or rvz_qual!='E' should have an optical spectrum\n",
    "print(len(result_table[result_table['RVZ_WAVELENGTH']=='O']))\n",
    "\n",
    "mask_spec_simbad = (result_table['RVZ_WAVELENGTH']=='O')\n",
    "result_table"
   ]
  },
  {
   "cell_type": "code",
   "execution_count": 155,
   "id": "military-reliance",
   "metadata": {},
   "outputs": [
    {
     "data": {
      "text/html": [
       "<div><i>Table length=504</i>\n",
       "<table id=\"table139809254088848\" class=\"table-striped table-bordered table-condensed\">\n",
       "<thead><tr><th>MAIN_ID</th><th>RA</th><th>DEC</th><th>RA_PREC</th><th>DEC_PREC</th><th>COO_ERR_MAJA</th><th>COO_ERR_MINA</th><th>COO_ERR_ANGLE</th><th>COO_QUAL</th><th>COO_WAVELENGTH</th><th>COO_BIBCODE</th><th>RVZ_QUAL</th><th>RVZ_WAVELENGTH</th><th>Z_VALUE</th><th>SCRIPT_NUMBER_ID</th></tr></thead>\n",
       "<thead><tr><th></th><th>&quot;h:m:s&quot;</th><th>&quot;d:m:s&quot;</th><th></th><th></th><th>mas</th><th>mas</th><th>deg</th><th></th><th></th><th></th><th></th><th></th><th></th><th></th></tr></thead>\n",
       "<thead><tr><th>object</th><th>str13</th><th>str13</th><th>int16</th><th>int16</th><th>float32</th><th>float32</th><th>int16</th><th>str1</th><th>str1</th><th>object</th><th>str1</th><th>str1</th><th>float64</th><th>int32</th></tr></thead>\n",
       "<tr><td>COSMOS2015 594392</td><td>10 02 58.52</td><td>+02 12 08.9</td><td>6</td><td>6</td><td>--</td><td>--</td><td>0</td><td>C</td><td>O</td><td>2007ApJS..172...99C</td><td>E</td><td></td><td>1.7643000</td><td>1</td></tr>\n",
       "<tr><td>SDSS J100256.53+021158.4</td><td>10 02 56.5328</td><td>+02 11 58.411</td><td>14</td><td>14</td><td>1.883</td><td>1.219</td><td>90</td><td>A</td><td>O</td><td>2020yCat.1350....0G</td><td>C</td><td>O</td><td>3.5026000</td><td>2</td></tr>\n",
       "<tr><td>SDSS J100256.04+020923.2</td><td>10 02 56.045</td><td>+02 09 23.22</td><td>7</td><td>7</td><td>68.000</td><td>63.000</td><td>0</td><td>C</td><td>O</td><td>2009ApJS..182..543A</td><td>D</td><td>O</td><td>0.9790000</td><td>3</td></tr>\n",
       "<tr><td>COSMOS2015 552225</td><td>10 03 11.27</td><td>+02 08 20.1</td><td>6</td><td>6</td><td>--</td><td>--</td><td>0</td><td>C</td><td>O</td><td>2007ApJS..172...99C</td><td>D</td><td>O</td><td>0.5727000</td><td>4</td></tr>\n",
       "<tr><td>SDSS J100307.82+021134.9</td><td>10 03 07.825</td><td>+02 11 34.98</td><td>7</td><td>7</td><td>78.000</td><td>76.000</td><td>0</td><td>C</td><td>O</td><td>2009ApJS..182..543A</td><td>C</td><td>O</td><td>0.5824000</td><td>5</td></tr>\n",
       "<tr><td>SDSS J100252.84+021452.8</td><td>10 02 52.841</td><td>+02 14 52.80</td><td>7</td><td>7</td><td>76.000</td><td>62.000</td><td>0</td><td>C</td><td>O</td><td>2009ApJS..182..543A</td><td>C</td><td>O</td><td>0.6652000</td><td>6</td></tr>\n",
       "<tr><td>[VV2006] J100309.2+022038</td><td>10 03 09.2100</td><td>+02 20 38.330</td><td>14</td><td>14</td><td>0.523</td><td>0.504</td><td>90</td><td>A</td><td>O</td><td>2020yCat.1350....0G</td><td>D</td><td>O</td><td>1.9555000</td><td>7</td></tr>\n",
       "<tr><td>[VV2006] J100251.7+022905</td><td>10 02 51.6243</td><td>+02 29 05.367</td><td>14</td><td>14</td><td>0.291</td><td>0.298</td><td>90</td><td>A</td><td>O</td><td>2020yCat.1350....0G</td><td>D</td><td>O</td><td>2.0051000</td><td>8</td></tr>\n",
       "<tr><td>ACS-GC 20054580</td><td>10 02 51.34</td><td>+01 58 20.0</td><td>6</td><td>6</td><td>--</td><td>--</td><td>0</td><td>C</td><td>O</td><td>2007ApJS..172...99C</td><td>E</td><td></td><td>1.6974000</td><td>9</td></tr>\n",
       "<tr><td>...</td><td>...</td><td>...</td><td>...</td><td>...</td><td>...</td><td>...</td><td>...</td><td>...</td><td>...</td><td>...</td><td>...</td><td>...</td><td>...</td><td>...</td></tr>\n",
       "<tr><td>COSMOS2015 921254</td><td>09 59 38.47</td><td>+02 41 44.1</td><td>6</td><td>6</td><td>--</td><td>--</td><td>0</td><td>C</td><td>O</td><td>2007ApJS..172...99C</td><td>D</td><td>O</td><td>0.8937700</td><td>482</td></tr>\n",
       "<tr><td>COSMOS2015 910341</td><td>10 02 12.19</td><td>+02 40 58.5</td><td>6</td><td>6</td><td>--</td><td>--</td><td>0</td><td>C</td><td>O</td><td>2007ApJS..172...99C</td><td>E</td><td></td><td>0.4317000</td><td>483</td></tr>\n",
       "<tr><td>COSMOS2015 487018</td><td>10 01 17.37</td><td>+02 02 28.6</td><td>6</td><td>6</td><td>--</td><td>--</td><td>0</td><td>C</td><td>O</td><td>2007ApJS..172...99C</td><td>E</td><td></td><td>2.6227000</td><td>484</td></tr>\n",
       "<tr><td>CANDELS COSMOS F160W J100022.46+021413.9</td><td>10 00 22.471</td><td>+02 14 14.05</td><td>7</td><td>7</td><td>--</td><td>--</td><td>0</td><td>C</td><td>O</td><td>2009ApJS..184..218L</td><td>D</td><td>O</td><td>1.4373000</td><td>485</td></tr>\n",
       "<tr><td>COSMOS2015 681801</td><td>09 58 46.56</td><td>+02 20 04.0</td><td>6</td><td>6</td><td>--</td><td>--</td><td>0</td><td>C</td><td>O</td><td>2007ApJS..172...99C</td><td>E</td><td></td><td>0.5063000</td><td>486</td></tr>\n",
       "<tr><td>COSMOS2015 789561</td><td>09 58 21.32</td><td>+02 29 48.4</td><td>6</td><td>6</td><td>--</td><td>--</td><td>0</td><td>C</td><td>O</td><td>2007ApJS..172...99C</td><td>E</td><td></td><td>1.1541000</td><td>487</td></tr>\n",
       "<tr><td>COSMOS2015 954735</td><td>10 01 09.53</td><td>+02 45 11.7</td><td>6</td><td>6</td><td>--</td><td>--</td><td>0</td><td>C</td><td>O</td><td>2007ApJS..172...99C</td><td>E</td><td></td><td>1.6359000</td><td>488</td></tr>\n",
       "<tr><td>COSMOS2015 432897</td><td>10 00 59.91</td><td>+01 57 10.5</td><td>6</td><td>6</td><td>--</td><td>--</td><td>0</td><td>C</td><td>O</td><td>2007ApJS..172...99C</td><td>E</td><td></td><td>1.1106000</td><td>489</td></tr>\n",
       "<tr><td>COSMOS2015 973742</td><td>10 00 40.72</td><td>+02 46 52.8</td><td>6</td><td>6</td><td>--</td><td>--</td><td>0</td><td>C</td><td>O</td><td>2007ApJS..172...99C</td><td>D</td><td>O</td><td>0.7248880</td><td>490</td></tr>\n",
       "<tr><td>COSMOS2015 940746</td><td>10 00 08.44</td><td>+02 43 40.2</td><td>6</td><td>6</td><td>--</td><td>--</td><td>0</td><td>C</td><td>O</td><td>2007ApJS..172...99C</td><td>E</td><td></td><td>0.4977000</td><td>491</td></tr>\n",
       "</table></div>"
      ],
      "text/plain": [
       "<Table length=504>\n",
       "                MAIN_ID                        RA      ... SCRIPT_NUMBER_ID\n",
       "                                            \"h:m:s\"    ...                 \n",
       "                 object                      str13     ...      int32      \n",
       "---------------------------------------- ------------- ... ----------------\n",
       "                       COSMOS2015 594392   10 02 58.52 ...                1\n",
       "                SDSS J100256.53+021158.4 10 02 56.5328 ...                2\n",
       "                SDSS J100256.04+020923.2  10 02 56.045 ...                3\n",
       "                       COSMOS2015 552225   10 03 11.27 ...                4\n",
       "                SDSS J100307.82+021134.9  10 03 07.825 ...                5\n",
       "                SDSS J100252.84+021452.8  10 02 52.841 ...                6\n",
       "               [VV2006] J100309.2+022038 10 03 09.2100 ...                7\n",
       "               [VV2006] J100251.7+022905 10 02 51.6243 ...                8\n",
       "                         ACS-GC 20054580   10 02 51.34 ...                9\n",
       "                                     ...           ... ...              ...\n",
       "                       COSMOS2015 921254   09 59 38.47 ...              482\n",
       "                       COSMOS2015 910341   10 02 12.19 ...              483\n",
       "                       COSMOS2015 487018   10 01 17.37 ...              484\n",
       "CANDELS COSMOS F160W J100022.46+021413.9  10 00 22.471 ...              485\n",
       "                       COSMOS2015 681801   09 58 46.56 ...              486\n",
       "                       COSMOS2015 789561   09 58 21.32 ...              487\n",
       "                       COSMOS2015 954735   10 01 09.53 ...              488\n",
       "                       COSMOS2015 432897   10 00 59.91 ...              489\n",
       "                       COSMOS2015 973742   10 00 40.72 ...              490\n",
       "                       COSMOS2015 940746   10 00 08.44 ...              491"
      ]
     },
     "execution_count": 155,
     "metadata": {},
     "output_type": "execute_result"
    }
   ],
   "source": [
    "result_table"
   ]
  },
  {
   "cell_type": "markdown",
   "id": "fixed-cleveland",
   "metadata": {},
   "source": [
    "### Add the additional spec-z back into the table"
   ]
  },
  {
   "cell_type": "code",
   "execution_count": 150,
   "id": "material-copper",
   "metadata": {},
   "outputs": [
    {
     "name": "stdout",
     "output_type": "stream",
     "text": [
      "393\n",
      "337\n"
     ]
    }
   ],
   "source": [
    "idx = result_table['SCRIPT_NUMBER_ID'].data.data - 1\n",
    "idx_new_specz = idx[(result_table['RVZ_WAVELENGTH']=='O')]\n",
    "\n",
    "# Update the redshift\n",
    "data_agn_updated = data_agn.copy()\n",
    "data_agn_updated['r_z'][idx_new_specz] = 0\n",
    "data_agn_updated['z'][idx_new_specz] = result_table['Z_VALUE'][(result_table['RVZ_WAVELENGTH']=='O')]\n",
    "\n",
    "mask_specz_updated = data_agn_updated['r_z'] < 3\n",
    "print(len(data_agn_updated[mask_specz_updated]))\n",
    "mask_specz = data_agn['r_z'] < 3\n",
    "print(len(data_agn[mask_specz]))"
   ]
  },
  {
   "cell_type": "code",
   "execution_count": 137,
   "id": "collect-century",
   "metadata": {},
   "outputs": [
    {
     "data": {
      "text/plain": [
       "<matplotlib.legend.Legend at 0x7f27df22c850>"
      ]
     },
     "execution_count": 137,
     "metadata": {},
     "output_type": "execute_result"
    },
    {
     "data": {
      "image/png": "[encoded data removed]",
      "text/plain": [
       "<Figure size 576x432 with 1 Axes>"
      ]
     },
     "metadata": {
      "needs_background": "light"
     },
     "output_type": "display_data"
    }
   ],
   "source": [
    "mask_specz_updated = data_agn_updated['r_z'] < 3\n",
    "plt.hist(data_agn_updated['i-mag'], label='everything')\n",
    "plt.hist(data_agn_updated['i-mag'][mask_specz_updated], label='additional spec-z from SIMBAD')\n",
    "mask_specz = data_agn['r_z'] < 3\n",
    "plt.hist(data_agn['i-mag'][mask_specz], label='spec-z')\n",
    "plt.xlabel('i-mag')\n",
    "plt.legend(frameon=True, loc=4)"
   ]
  },
  {
   "cell_type": "markdown",
   "id": "intensive-conservative",
   "metadata": {},
   "source": [
    "### Manually inspect the inconsistent spec-zs"
   ]
  },
  {
   "cell_type": "code",
   "execution_count": 167,
   "id": "rubber-albert",
   "metadata": {},
   "outputs": [
    {
     "name": "stderr",
     "output_type": "stream",
     "text": [
      "No artists with labels found to put in legend.  Note that artists whose label start with an underscore are ignored when legend() is called with no argument.\n"
     ]
    },
    {
     "data": {
      "text/plain": [
       "<matplotlib.legend.Legend at 0x7f27ddf39490>"
      ]
     },
     "execution_count": 167,
     "metadata": {},
     "output_type": "execute_result"
    },
    {
     "data": {
      "image/png": "[encoded data removed]",
      "text/plain": [
       "<Figure size 576x432 with 1 Axes>"
      ]
     },
     "metadata": {
      "needs_background": "light"
     },
     "output_type": "display_data"
    }
   ],
   "source": [
    "#plt.scatter(data_agn['z'], data_agn_updated['z'], label='spec-z')\n",
    "plt.scatter(data_agn['z'][mask_specz_updated], data_agn_updated['z'][mask_specz_updated])\n",
    "#plt.scatter(data_agn['z'][~mask_specz & mask_specz_updated], data_agn_updated['z'][~mask_specz & mask_specz_updated], label='updated spec-z')\n",
    "#plt.scatter(data_agn['z'][mask_specz_updated], data_agn_updated['z'][mask_specz_updated], label='spec-z')\n",
    "plt.xlabel('HSC z')\n",
    "plt.ylabel('SIMBAD z')\n",
    "plt.legend(frameon=True)"
   ]
  },
  {
   "cell_type": "code",
   "execution_count": 163,
   "id": "expanded-receptor",
   "metadata": {},
   "outputs": [
    {
     "data": {
      "text/html": [
       "<div><i>Table length=14</i>\n",
       "<table id=\"table139809208712720\" class=\"table-striped table-bordered table-condensed\">\n",
       "<thead><tr><th>ID</th><th>RAdeg</th><th>DEdeg</th><th>i-mag</th><th>X-flag</th><th>g-flag</th><th>r-flag</th><th>i-flag</th><th>z-flag</th><th>n-corr</th><th>z</th><th>r_z</th><th>ID-COSMOS2015</th></tr></thead>\n",
       "<thead><tr><th>--</th><th>deg</th><th>deg</th><th>mag</th><th>--</th><th>--</th><th>--</th><th>--</th><th>--</th><th>--</th><th>--</th><th>--</th><th>--</th></tr></thead>\n",
       "<thead><tr><th>int64</th><th>float64</th><th>float64</th><th>float64</th><th>int64</th><th>int64</th><th>int64</th><th>int64</th><th>int64</th><th>int64</th><th>float64</th><th>int64</th><th>int64</th></tr></thead>\n",
       "<tr><td>11</td><td>150.66094</td><td>1.97536</td><td>21.47</td><td>1</td><td>1</td><td>1</td><td>1</td><td>1</td><td>6</td><td>1.565</td><td>1</td><td>448411</td></tr>\n",
       "<tr><td>17</td><td>150.55903</td><td>2.10576</td><td>22.61</td><td>1</td><td>1</td><td>1</td><td>1</td><td>1</td><td>6</td><td>2.322</td><td>1</td><td>529336</td></tr>\n",
       "<tr><td>27</td><td>150.55556</td><td>2.36917</td><td>23.29</td><td>1</td><td>1</td><td>1</td><td>1</td><td>1</td><td>6</td><td>1.634</td><td>2</td><td>706553</td></tr>\n",
       "<tr><td>153</td><td>150.32383</td><td>2.55258</td><td>22.83</td><td>1</td><td>1</td><td>1</td><td>1</td><td>1</td><td>6</td><td>1.633</td><td>1</td><td>825866</td></tr>\n",
       "<tr><td>191</td><td>149.9698</td><td>2.18345</td><td>22.49</td><td>1</td><td>1</td><td>1</td><td>1</td><td>1</td><td>6</td><td>2.9</td><td>1</td><td>580884</td></tr>\n",
       "<tr><td>197</td><td>150.06456</td><td>2.32902</td><td>21.85</td><td>1</td><td>1</td><td>1</td><td>1</td><td>1</td><td>6</td><td>2.445</td><td>1</td><td>678793</td></tr>\n",
       "<tr><td>227</td><td>149.79179</td><td>1.87287</td><td>22.21</td><td>1</td><td>1</td><td>1</td><td>1</td><td>1</td><td>6</td><td>1.566</td><td>1</td><td>383384</td></tr>\n",
       "<tr><td>257</td><td>149.79162</td><td>2.3382</td><td>21.28</td><td>1</td><td>1</td><td>1</td><td>1</td><td>1</td><td>6</td><td>1.003</td><td>1</td><td>686187</td></tr>\n",
       "<tr><td>273</td><td>149.86032</td><td>2.54475</td><td>22.77</td><td>1</td><td>1</td><td>1</td><td>1</td><td>1</td><td>6</td><td>0.991</td><td>1</td><td>821027</td></tr>\n",
       "<tr><td>331</td><td>150.30006</td><td>2.70935</td><td>22.62</td><td>1</td><td>1</td><td>1</td><td>1</td><td>0</td><td>3</td><td>2.234</td><td>1</td><td>928556</td></tr>\n",
       "<tr><td>358</td><td>149.89351</td><td>2.10766</td><td>21.54</td><td>1</td><td>1</td><td>1</td><td>0</td><td>1</td><td>3</td><td>1.509</td><td>1</td><td>532321</td></tr>\n",
       "<tr><td>363</td><td>150.53788</td><td>2.31051</td><td>21.38</td><td>1</td><td>0</td><td>1</td><td>1</td><td>1</td><td>3</td><td>1.443</td><td>1</td><td>666872</td></tr>\n",
       "<tr><td>367</td><td>150.62002</td><td>2.62554</td><td>22.14</td><td>1</td><td>0</td><td>1</td><td>1</td><td>1</td><td>3</td><td>1.325</td><td>1</td><td>873407</td></tr>\n",
       "<tr><td>416</td><td>149.96251</td><td>2.32043</td><td>23.63</td><td>1</td><td>0</td><td>1</td><td>1</td><td>0</td><td>1</td><td>0.933</td><td>2</td><td>672268</td></tr>\n",
       "</table></div>"
      ],
      "text/plain": [
       "<Table length=14>\n",
       "  ID    RAdeg    DEdeg   i-mag  X-flag ... n-corr    z     r_z  ID-COSMOS2015\n",
       "  --     deg      deg     mag     --   ...   --      --     --        --     \n",
       "int64  float64  float64 float64 int64  ... int64  float64 int64     int64    \n",
       "----- --------- ------- ------- ------ ... ------ ------- ----- -------------\n",
       "   11 150.66094 1.97536   21.47      1 ...      6   1.565     1        448411\n",
       "   17 150.55903 2.10576   22.61      1 ...      6   2.322     1        529336\n",
       "   27 150.55556 2.36917   23.29      1 ...      6   1.634     2        706553\n",
       "  153 150.32383 2.55258   22.83      1 ...      6   1.633     1        825866\n",
       "  191  149.9698 2.18345   22.49      1 ...      6     2.9     1        580884\n",
       "  197 150.06456 2.32902   21.85      1 ...      6   2.445     1        678793\n",
       "  227 149.79179 1.87287   22.21      1 ...      6   1.566     1        383384\n",
       "  257 149.79162  2.3382   21.28      1 ...      6   1.003     1        686187\n",
       "  273 149.86032 2.54475   22.77      1 ...      6   0.991     1        821027\n",
       "  331 150.30006 2.70935   22.62      1 ...      3   2.234     1        928556\n",
       "  358 149.89351 2.10766   21.54      1 ...      3   1.509     1        532321\n",
       "  363 150.53788 2.31051   21.38      1 ...      3   1.443     1        666872\n",
       "  367 150.62002 2.62554   22.14      1 ...      3   1.325     1        873407\n",
       "  416 149.96251 2.32043   23.63      1 ...      1   0.933     2        672268"
      ]
     },
     "execution_count": 163,
     "metadata": {},
     "output_type": "execute_result"
    }
   ],
   "source": [
    "dz = data_agn['z']-data_agn_updated['z']\n",
    "dz_large = dz > .5\n",
    "\n",
    "dz[mask_specz & dz_large]\n",
    "data_agn[mask_specz & dz_large]"
   ]
  },
  {
   "cell_type": "code",
   "execution_count": 164,
   "id": "wrapped-differential",
   "metadata": {},
   "outputs": [
    {
     "data": {
      "text/html": [
       "<div><i>Table length=14</i>\n",
       "<table id=\"table139809206164112\" class=\"table-striped table-bordered table-condensed\">\n",
       "<thead><tr><th>ID</th><th>RAdeg</th><th>DEdeg</th><th>i-mag</th><th>X-flag</th><th>g-flag</th><th>r-flag</th><th>i-flag</th><th>z-flag</th><th>n-corr</th><th>z</th><th>r_z</th><th>ID-COSMOS2015</th></tr></thead>\n",
       "<thead><tr><th>--</th><th>deg</th><th>deg</th><th>mag</th><th>--</th><th>--</th><th>--</th><th>--</th><th>--</th><th>--</th><th>--</th><th>--</th><th>--</th></tr></thead>\n",
       "<thead><tr><th>int64</th><th>float64</th><th>float64</th><th>float64</th><th>int64</th><th>int64</th><th>int64</th><th>int64</th><th>int64</th><th>int64</th><th>float64</th><th>int64</th><th>int64</th></tr></thead>\n",
       "<tr><td>11</td><td>150.66094</td><td>1.97536</td><td>21.47</td><td>1</td><td>1</td><td>1</td><td>1</td><td>1</td><td>6</td><td>0.925</td><td>0</td><td>448411</td></tr>\n",
       "<tr><td>17</td><td>150.55903</td><td>2.10576</td><td>22.61</td><td>1</td><td>1</td><td>1</td><td>1</td><td>1</td><td>6</td><td>1.2651</td><td>0</td><td>529336</td></tr>\n",
       "<tr><td>27</td><td>150.55556</td><td>2.36917</td><td>23.29</td><td>1</td><td>1</td><td>1</td><td>1</td><td>1</td><td>6</td><td>0.9736</td><td>0</td><td>706553</td></tr>\n",
       "<tr><td>153</td><td>150.32383</td><td>2.55258</td><td>22.83</td><td>1</td><td>1</td><td>1</td><td>1</td><td>1</td><td>6</td><td>0.695</td><td>0</td><td>825866</td></tr>\n",
       "<tr><td>191</td><td>149.9698</td><td>2.18345</td><td>22.49</td><td>1</td><td>1</td><td>1</td><td>1</td><td>1</td><td>6</td><td>1.657</td><td>0</td><td>580884</td></tr>\n",
       "<tr><td>197</td><td>150.06456</td><td>2.32902</td><td>21.85</td><td>1</td><td>1</td><td>1</td><td>1</td><td>1</td><td>6</td><td>0.34</td><td>0</td><td>678793</td></tr>\n",
       "<tr><td>227</td><td>149.79179</td><td>1.87287</td><td>22.21</td><td>1</td><td>1</td><td>1</td><td>1</td><td>1</td><td>6</td><td>0.4586</td><td>0</td><td>383384</td></tr>\n",
       "<tr><td>257</td><td>149.79162</td><td>2.3382</td><td>21.28</td><td>1</td><td>1</td><td>1</td><td>1</td><td>1</td><td>6</td><td>0.4319</td><td>0</td><td>686187</td></tr>\n",
       "<tr><td>273</td><td>149.86032</td><td>2.54475</td><td>22.77</td><td>1</td><td>1</td><td>1</td><td>1</td><td>1</td><td>6</td><td>0.4311</td><td>0</td><td>821027</td></tr>\n",
       "<tr><td>331</td><td>150.30006</td><td>2.70935</td><td>22.62</td><td>1</td><td>1</td><td>1</td><td>1</td><td>0</td><td>3</td><td>0.7284</td><td>0</td><td>928556</td></tr>\n",
       "<tr><td>358</td><td>149.89351</td><td>2.10766</td><td>21.54</td><td>1</td><td>1</td><td>1</td><td>0</td><td>1</td><td>3</td><td>0.6862</td><td>0</td><td>532321</td></tr>\n",
       "<tr><td>363</td><td>150.53788</td><td>2.31051</td><td>21.38</td><td>1</td><td>0</td><td>1</td><td>1</td><td>1</td><td>3</td><td>0.8379</td><td>0</td><td>666872</td></tr>\n",
       "<tr><td>367</td><td>150.62002</td><td>2.62554</td><td>22.14</td><td>1</td><td>0</td><td>1</td><td>1</td><td>1</td><td>3</td><td>0.7252</td><td>0</td><td>873407</td></tr>\n",
       "<tr><td>416</td><td>149.96251</td><td>2.32043</td><td>23.63</td><td>1</td><td>0</td><td>1</td><td>1</td><td>0</td><td>1</td><td>0.277</td><td>0</td><td>672268</td></tr>\n",
       "</table></div>"
      ],
      "text/plain": [
       "<Table length=14>\n",
       "  ID    RAdeg    DEdeg   i-mag  X-flag ... n-corr    z     r_z  ID-COSMOS2015\n",
       "  --     deg      deg     mag     --   ...   --      --     --        --     \n",
       "int64  float64  float64 float64 int64  ... int64  float64 int64     int64    \n",
       "----- --------- ------- ------- ------ ... ------ ------- ----- -------------\n",
       "   11 150.66094 1.97536   21.47      1 ...      6   0.925     0        448411\n",
       "   17 150.55903 2.10576   22.61      1 ...      6  1.2651     0        529336\n",
       "   27 150.55556 2.36917   23.29      1 ...      6  0.9736     0        706553\n",
       "  153 150.32383 2.55258   22.83      1 ...      6   0.695     0        825866\n",
       "  191  149.9698 2.18345   22.49      1 ...      6   1.657     0        580884\n",
       "  197 150.06456 2.32902   21.85      1 ...      6    0.34     0        678793\n",
       "  227 149.79179 1.87287   22.21      1 ...      6  0.4586     0        383384\n",
       "  257 149.79162  2.3382   21.28      1 ...      6  0.4319     0        686187\n",
       "  273 149.86032 2.54475   22.77      1 ...      6  0.4311     0        821027\n",
       "  331 150.30006 2.70935   22.62      1 ...      3  0.7284     0        928556\n",
       "  358 149.89351 2.10766   21.54      1 ...      3  0.6862     0        532321\n",
       "  363 150.53788 2.31051   21.38      1 ...      3  0.8379     0        666872\n",
       "  367 150.62002 2.62554   22.14      1 ...      3  0.7252     0        873407\n",
       "  416 149.96251 2.32043   23.63      1 ...      1   0.277     0        672268"
      ]
     },
     "execution_count": 164,
     "metadata": {},
     "output_type": "execute_result"
    }
   ],
   "source": [
    "data_agn_updated[mask_specz & dz_large]"
   ]
  },
  {
   "cell_type": "markdown",
   "id": "bibliographic-strand",
   "metadata": {},
   "source": [
    "### Download the spectra"
   ]
  },
  {
   "cell_type": "code",
   "execution_count": 168,
   "id": "above-commonwealth",
   "metadata": {},
   "outputs": [],
   "source": [
    "# Charlotte has already done SDSS - nice!\n",
    "\n",
    "# Will add the other ones (XMM-spec, Caltech COSMOS Magellen etc,)"
   ]
  },
  {
   "cell_type": "code",
   "execution_count": null,
   "id": "complicated-asthma",
   "metadata": {},
   "outputs": [],
   "source": []
  }
 ],
 "metadata": {
  "kernelspec": {
   "display_name": "Python 3",
   "language": "python",
   "name": "python3"
  },
  "language_info": {
   "codemirror_mode": {
    "name": "ipython",
    "version": 3
   },
   "file_extension": ".py",
   "mimetype": "text/x-python",
   "name": "python",
   "nbconvert_exporter": "python",
   "pygments_lexer": "ipython3",
   "version": "3.7.15"
  }
 },
 "nbformat": 4,
 "nbformat_minor": 5
}
