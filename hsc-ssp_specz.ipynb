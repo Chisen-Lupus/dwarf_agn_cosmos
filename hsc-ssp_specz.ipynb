{
 "cells": [
  {
   "cell_type": "markdown",
   "id": "forbidden-cancer",
   "metadata": {},
   "source": [
    "### Obtain spectra for the sources and add additional spec-zs from SIMBAD"
   ]
  },
  {
   "cell_type": "code",
   "execution_count": 71,
   "id": "authorized-closer",
   "metadata": {},
   "outputs": [],
   "source": [
    "%matplotlib inline\n",
    "import sys, os, glob\n",
    "\n",
    "from astropy.io import fits, ascii\n",
    "\n",
    "import numpy as np\n",
    "import matplotlib.pyplot as plt\n",
    "from astropy import units as u\n",
    "import astropy.constants as const\n",
    "from astropy.coordinates import SkyCoord, concatenate\n",
    "from astropy import table"
   ]
  },
  {
   "cell_type": "code",
   "execution_count": 72,
   "id": "valued-expansion",
   "metadata": {},
   "outputs": [],
   "source": [
    "import scienceplots\n",
    "\n",
    "plt.style.use(['bright', 'science', 'no-latex', 'notebook'])"
   ]
  },
  {
   "cell_type": "markdown",
   "id": "sensitive-closer",
   "metadata": {},
   "source": [
    "### Read the HSC-SSP AGN table:\n",
    "\n",
    "https://ui.adsabs.harvard.edu/abs/2020ApJ...894...24K/abstract"
   ]
  },
  {
   "cell_type": "code",
   "execution_count": 73,
   "id": "intensive-observer",
   "metadata": {},
   "outputs": [
    {
     "name": "stderr",
     "output_type": "stream",
     "text": [
      "WARNING: UnitsWarning: '--' did not parse as cds unit: Syntax error If this is meant to be a custom unit, define it with 'u.def_unit'. To have it recognized inside a file reader or other code, enable it with 'u.add_enabled_units'. For details, see https://docs.astropy.org/en/latest/units/combining_and_defining.html [astropy.units.core]\n"
     ]
    },
    {
     "data": {
      "text/html": [
       "<div><i>Table length=491</i>\n",
       "<table id=\"table139917425456848\" class=\"table-striped table-bordered table-condensed\">\n",
       "<thead><tr><th>ID</th><th>RAdeg</th><th>DEdeg</th><th>i-mag</th><th>X-flag</th><th>g-flag</th><th>r-flag</th><th>i-flag</th><th>z-flag</th><th>n-corr</th><th>z</th><th>r_z</th><th>ID-COSMOS2015</th></tr></thead>\n",
       "<thead><tr><th>--</th><th>deg</th><th>deg</th><th>mag</th><th>--</th><th>--</th><th>--</th><th>--</th><th>--</th><th>--</th><th>--</th><th>--</th><th>--</th></tr></thead>\n",
       "<thead><tr><th>int64</th><th>float64</th><th>float64</th><th>float64</th><th>int64</th><th>int64</th><th>int64</th><th>int64</th><th>int64</th><th>int64</th><th>float64</th><th>int64</th><th>int64</th></tr></thead>\n",
       "<tr><td>1</td><td>150.74386</td><td>2.20245</td><td>22.71</td><td>1</td><td>1</td><td>1</td><td>1</td><td>1</td><td>6</td><td>1.561</td><td>3</td><td>594392</td></tr>\n",
       "<tr><td>2</td><td>150.73557</td><td>2.19957</td><td>20.36</td><td>1</td><td>1</td><td>1</td><td>1</td><td>1</td><td>6</td><td>3.499</td><td>1</td><td>592797</td></tr>\n",
       "<tr><td>3</td><td>150.73353</td><td>2.15646</td><td>20.88</td><td>1</td><td>1</td><td>1</td><td>1</td><td>1</td><td>6</td><td>0.977</td><td>1</td><td>565402</td></tr>\n",
       "<tr><td>4</td><td>150.79702</td><td>2.13888</td><td>21.01</td><td>1</td><td>1</td><td>1</td><td>1</td><td>1</td><td>6</td><td>0.573</td><td>1</td><td>552225</td></tr>\n",
       "<tr><td>5</td><td>150.78259</td><td>2.19306</td><td>20.63</td><td>1</td><td>1</td><td>1</td><td>1</td><td>1</td><td>6</td><td>0.585</td><td>1</td><td>589540</td></tr>\n",
       "<tr><td>6</td><td>150.72019</td><td>2.24803</td><td>21.13</td><td>1</td><td>1</td><td>1</td><td>1</td><td>1</td><td>6</td><td>0.664</td><td>1</td><td>625595</td></tr>\n",
       "<tr><td>7</td><td>150.78838</td><td>2.34399</td><td>19.82</td><td>1</td><td>1</td><td>1</td><td>1</td><td>1</td><td>6</td><td>1.964</td><td>1</td><td>689768</td></tr>\n",
       "<tr><td>8</td><td>150.71511</td><td>2.48483</td><td>19.2</td><td>1</td><td>1</td><td>1</td><td>1</td><td>1</td><td>6</td><td>1.999</td><td>1</td><td>782508</td></tr>\n",
       "<tr><td>9</td><td>150.71391</td><td>1.97214</td><td>22.87</td><td>1</td><td>1</td><td>1</td><td>1</td><td>1</td><td>5</td><td>1.474</td><td>3</td><td>445280</td></tr>\n",
       "<tr><td>...</td><td>...</td><td>...</td><td>...</td><td>...</td><td>...</td><td>...</td><td>...</td><td>...</td><td>...</td><td>...</td><td>...</td><td>...</td></tr>\n",
       "<tr><td>482</td><td>149.91036</td><td>2.69558</td><td>21.49</td><td>0</td><td>1</td><td>1</td><td>0</td><td>0</td><td>1</td><td>0.851</td><td>4</td><td>921254</td></tr>\n",
       "<tr><td>483</td><td>150.55083</td><td>2.68288</td><td>23.63</td><td>0</td><td>0</td><td>1</td><td>1</td><td>0</td><td>1</td><td>3.493</td><td>4</td><td>910341</td></tr>\n",
       "<tr><td>484</td><td>150.32241</td><td>2.04128</td><td>25.31</td><td>0</td><td>0</td><td>1</td><td>1</td><td>0</td><td>1</td><td>2.771</td><td>4</td><td>487018</td></tr>\n",
       "<tr><td>485</td><td>150.09361</td><td>2.23721</td><td>22.31</td><td>0</td><td>0</td><td>1</td><td>1</td><td>0</td><td>1</td><td>1.175</td><td>1</td><td>617721</td></tr>\n",
       "<tr><td>486</td><td>149.69403</td><td>2.33439</td><td>23.52</td><td>0</td><td>0</td><td>0</td><td>1</td><td>1</td><td>1</td><td>0.497</td><td>4</td><td>681801</td></tr>\n",
       "<tr><td>487</td><td>149.58882</td><td>2.49681</td><td>23.09</td><td>0</td><td>1</td><td>0</td><td>1</td><td>0</td><td>1</td><td>1.217</td><td>4</td><td>789561</td></tr>\n",
       "<tr><td>488</td><td>150.28975</td><td>2.75321</td><td>23.69</td><td>0</td><td>0</td><td>1</td><td>0</td><td>1</td><td>1</td><td>1.914</td><td>4</td><td>954735</td></tr>\n",
       "<tr><td>489</td><td>150.24965</td><td>1.95294</td><td>22.48</td><td>0</td><td>1</td><td>0</td><td>0</td><td>1</td><td>1</td><td>1.107</td><td>1</td><td>432897</td></tr>\n",
       "<tr><td>490</td><td>150.16971</td><td>2.78131</td><td>20.79</td><td>0</td><td>1</td><td>0</td><td>0</td><td>1</td><td>1</td><td>0.71</td><td>4</td><td>973742</td></tr>\n",
       "<tr><td>491</td><td>150.03524</td><td>2.72781</td><td>21.04</td><td>0</td><td>1</td><td>0</td><td>0</td><td>1</td><td>1</td><td>0.509</td><td>1</td><td>940746</td></tr>\n",
       "</table></div>"
      ],
      "text/plain": [
       "<Table length=491>\n",
       "  ID    RAdeg    DEdeg   i-mag  X-flag ... n-corr    z     r_z  ID-COSMOS2015\n",
       "  --     deg      deg     mag     --   ...   --      --     --        --     \n",
       "int64  float64  float64 float64 int64  ... int64  float64 int64     int64    \n",
       "----- --------- ------- ------- ------ ... ------ ------- ----- -------------\n",
       "    1 150.74386 2.20245   22.71      1 ...      6   1.561     3        594392\n",
       "    2 150.73557 2.19957   20.36      1 ...      6   3.499     1        592797\n",
       "    3 150.73353 2.15646   20.88      1 ...      6   0.977     1        565402\n",
       "    4 150.79702 2.13888   21.01      1 ...      6   0.573     1        552225\n",
       "    5 150.78259 2.19306   20.63      1 ...      6   0.585     1        589540\n",
       "    6 150.72019 2.24803   21.13      1 ...      6   0.664     1        625595\n",
       "    7 150.78838 2.34399   19.82      1 ...      6   1.964     1        689768\n",
       "    8 150.71511 2.48483    19.2      1 ...      6   1.999     1        782508\n",
       "    9 150.71391 1.97214   22.87      1 ...      5   1.474     3        445280\n",
       "  ...       ...     ...     ...    ... ...    ...     ...   ...           ...\n",
       "  482 149.91036 2.69558   21.49      0 ...      1   0.851     4        921254\n",
       "  483 150.55083 2.68288   23.63      0 ...      1   3.493     4        910341\n",
       "  484 150.32241 2.04128   25.31      0 ...      1   2.771     4        487018\n",
       "  485 150.09361 2.23721   22.31      0 ...      1   1.175     1        617721\n",
       "  486 149.69403 2.33439   23.52      0 ...      1   0.497     4        681801\n",
       "  487 149.58882 2.49681   23.09      0 ...      1   1.217     4        789561\n",
       "  488 150.28975 2.75321   23.69      0 ...      1   1.914     4        954735\n",
       "  489 150.24965 1.95294   22.48      0 ...      1   1.107     1        432897\n",
       "  490 150.16971 2.78131   20.79      0 ...      1    0.71     4        973742\n",
       "  491 150.03524 2.72781   21.04      0 ...      1   0.509     1        940746"
      ]
     },
     "execution_count": 73,
     "metadata": {},
     "output_type": "execute_result"
    }
   ],
   "source": [
    "# Read HSC-SSP AGNs\n",
    "data_agn = ascii.read('hsc_agn.txt')\n",
    "cat_agn = SkyCoord(data_agn['RAdeg'], data_agn['DEdeg'], unit='deg')\n",
    "data_agn"
   ]
  },
  {
   "cell_type": "markdown",
   "id": "answering-winter",
   "metadata": {},
   "source": [
    "1: spectroscopic redshift from the HSC catalog,\n",
    "\n",
    "2: spectroscopic redshift from the DEIMOS catalog,\n",
    "\n",
    "3: photometric redshift from z_best in the Chandra catalog,\n",
    "\n",
    "4: photometric redshift from ZPDF in the COSMOS2015 catalog.\n",
    "\n",
    "There are still more with spectra than it appears this table!\n",
    "\n",
    "### Match to SIMBAD"
   ]
  },
  {
   "cell_type": "code",
   "execution_count": 74,
   "id": "introductory-denver",
   "metadata": {},
   "outputs": [
    {
     "name": "stdout",
     "output_type": "stream",
     "text": [
      "337\n",
      "310\n"
     ]
    },
    {
     "name": "stderr",
     "output_type": "stream",
     "text": [
      "/home/colinjb2/.local/lib/python3.7/site-packages/astroquery-0.4.2.dev0-py3.7.egg/astroquery/simbad/core.py:138: UserWarning: Warning: The script line number 89 raised an error (recorded in the `errors` attribute of the result table): '10:01:58.956 +2:24:45.216': No astronomical object found :  \n",
      "  (error.line, error.msg))\n"
     ]
    },
    {
     "data": {
      "text/html": [
       "<div><i>Table length=498</i>\n",
       "<table id=\"table139917433744272\" class=\"table-striped table-bordered table-condensed\">\n",
       "<thead><tr><th>MAIN_ID</th><th>RA</th><th>DEC</th><th>RA_PREC</th><th>DEC_PREC</th><th>COO_ERR_MAJA</th><th>COO_ERR_MINA</th><th>COO_ERR_ANGLE</th><th>COO_QUAL</th><th>COO_WAVELENGTH</th><th>COO_BIBCODE</th><th>RVZ_QUAL</th><th>RVZ_WAVELENGTH</th><th>Z_VALUE</th><th>SCRIPT_NUMBER_ID</th></tr></thead>\n",
       "<thead><tr><th></th><th>&quot;h:m:s&quot;</th><th>&quot;d:m:s&quot;</th><th></th><th></th><th>mas</th><th>mas</th><th>deg</th><th></th><th></th><th></th><th></th><th></th><th></th><th></th></tr></thead>\n",
       "<thead><tr><th>object</th><th>str13</th><th>str13</th><th>int16</th><th>int16</th><th>float32</th><th>float32</th><th>int16</th><th>str1</th><th>str1</th><th>object</th><th>str1</th><th>str1</th><th>float64</th><th>int32</th></tr></thead>\n",
       "<tr><td>COSMOS2015 594392</td><td>10 02 58.52</td><td>+02 12 08.9</td><td>6</td><td>6</td><td>--</td><td>--</td><td>0</td><td>C</td><td>O</td><td>2007ApJS..172...99C</td><td>E</td><td></td><td>1.7643000</td><td>1</td></tr>\n",
       "<tr><td>SDSS J100256.53+021158.4</td><td>10 02 56.5328</td><td>+02 11 58.411</td><td>14</td><td>14</td><td>1.883</td><td>1.219</td><td>90</td><td>A</td><td>O</td><td>2020yCat.1350....0G</td><td>C</td><td>O</td><td>3.5026000</td><td>2</td></tr>\n",
       "<tr><td>SDSS J100256.04+020923.2</td><td>10 02 56.045</td><td>+02 09 23.22</td><td>7</td><td>7</td><td>68.000</td><td>63.000</td><td>0</td><td>C</td><td>O</td><td>2009ApJS..182..543A</td><td>D</td><td>O</td><td>0.9790000</td><td>3</td></tr>\n",
       "<tr><td>COSMOS2015 552225</td><td>10 03 11.27</td><td>+02 08 20.1</td><td>6</td><td>6</td><td>--</td><td>--</td><td>0</td><td>C</td><td>O</td><td>2007ApJS..172...99C</td><td>D</td><td>O</td><td>0.5727000</td><td>4</td></tr>\n",
       "<tr><td>SDSS J100307.82+021134.9</td><td>10 03 07.825</td><td>+02 11 34.98</td><td>7</td><td>7</td><td>78.000</td><td>76.000</td><td>0</td><td>C</td><td>O</td><td>2009ApJS..182..543A</td><td>C</td><td>O</td><td>0.5824000</td><td>5</td></tr>\n",
       "<tr><td>SDSS J100252.84+021452.8</td><td>10 02 52.841</td><td>+02 14 52.80</td><td>7</td><td>7</td><td>76.000</td><td>62.000</td><td>0</td><td>C</td><td>O</td><td>2009ApJS..182..543A</td><td>C</td><td>O</td><td>0.6652000</td><td>6</td></tr>\n",
       "<tr><td>[VV2006] J100309.2+022038</td><td>10 03 09.2100</td><td>+02 20 38.330</td><td>14</td><td>14</td><td>0.523</td><td>0.504</td><td>90</td><td>A</td><td>O</td><td>2020yCat.1350....0G</td><td>D</td><td>O</td><td>1.9555000</td><td>7</td></tr>\n",
       "<tr><td>[VV2006] J100251.7+022905</td><td>10 02 51.6243</td><td>+02 29 05.367</td><td>14</td><td>14</td><td>0.291</td><td>0.298</td><td>90</td><td>A</td><td>O</td><td>2020yCat.1350....0G</td><td>D</td><td>O</td><td>2.0051000</td><td>8</td></tr>\n",
       "<tr><td>ACS-GC 20054580</td><td>10 02 51.34</td><td>+01 58 20.0</td><td>6</td><td>6</td><td>--</td><td>--</td><td>0</td><td>C</td><td>O</td><td>2007ApJS..172...99C</td><td>E</td><td></td><td>1.6974000</td><td>9</td></tr>\n",
       "<tr><td>...</td><td>...</td><td>...</td><td>...</td><td>...</td><td>...</td><td>...</td><td>...</td><td>...</td><td>...</td><td>...</td><td>...</td><td>...</td><td>...</td><td>...</td></tr>\n",
       "<tr><td>COSMOS2015 921254</td><td>09 59 38.47</td><td>+02 41 44.1</td><td>6</td><td>6</td><td>--</td><td>--</td><td>0</td><td>C</td><td>O</td><td>2007ApJS..172...99C</td><td>D</td><td>O</td><td>0.8937700</td><td>482</td></tr>\n",
       "<tr><td>COSMOS2015 910341</td><td>10 02 12.19</td><td>+02 40 58.5</td><td>6</td><td>6</td><td>--</td><td>--</td><td>0</td><td>C</td><td>O</td><td>2007ApJS..172...99C</td><td>E</td><td></td><td>0.4317000</td><td>483</td></tr>\n",
       "<tr><td>COSMOS2015 487018</td><td>10 01 17.37</td><td>+02 02 28.6</td><td>6</td><td>6</td><td>--</td><td>--</td><td>0</td><td>C</td><td>O</td><td>2007ApJS..172...99C</td><td>E</td><td></td><td>2.6227000</td><td>484</td></tr>\n",
       "<tr><td>CANDELS COSMOS F160W J100022.46+021413.9</td><td>10 00 22.471</td><td>+02 14 14.05</td><td>7</td><td>7</td><td>--</td><td>--</td><td>0</td><td>C</td><td>O</td><td>2009ApJS..184..218L</td><td>D</td><td>O</td><td>1.4373000</td><td>485</td></tr>\n",
       "<tr><td>COSMOS2015 681801</td><td>09 58 46.56</td><td>+02 20 04.0</td><td>6</td><td>6</td><td>--</td><td>--</td><td>0</td><td>C</td><td>O</td><td>2007ApJS..172...99C</td><td>E</td><td></td><td>0.5063000</td><td>486</td></tr>\n",
       "<tr><td>COSMOS2015 789561</td><td>09 58 21.32</td><td>+02 29 48.4</td><td>6</td><td>6</td><td>--</td><td>--</td><td>0</td><td>C</td><td>O</td><td>2007ApJS..172...99C</td><td>E</td><td></td><td>1.1541000</td><td>487</td></tr>\n",
       "<tr><td>COSMOS2015 954735</td><td>10 01 09.53</td><td>+02 45 11.7</td><td>6</td><td>6</td><td>--</td><td>--</td><td>0</td><td>C</td><td>O</td><td>2007ApJS..172...99C</td><td>E</td><td></td><td>1.6359000</td><td>488</td></tr>\n",
       "<tr><td>COSMOS2015 432897</td><td>10 00 59.91</td><td>+01 57 10.5</td><td>6</td><td>6</td><td>--</td><td>--</td><td>0</td><td>C</td><td>O</td><td>2007ApJS..172...99C</td><td>E</td><td></td><td>1.1106000</td><td>489</td></tr>\n",
       "<tr><td>COSMOS2015 973742</td><td>10 00 40.72</td><td>+02 46 52.8</td><td>6</td><td>6</td><td>--</td><td>--</td><td>0</td><td>C</td><td>O</td><td>2007ApJS..172...99C</td><td>D</td><td>O</td><td>0.7248880</td><td>490</td></tr>\n",
       "<tr><td>COSMOS2015 940746</td><td>10 00 08.44</td><td>+02 43 40.2</td><td>6</td><td>6</td><td>--</td><td>--</td><td>0</td><td>C</td><td>O</td><td>2007ApJS..172...99C</td><td>E</td><td></td><td>0.4977000</td><td>491</td></tr>\n",
       "</table></div>"
      ],
      "text/plain": [
       "<Table length=498>\n",
       "                MAIN_ID                        RA      ... SCRIPT_NUMBER_ID\n",
       "                                            \"h:m:s\"    ...                 \n",
       "                 object                      str13     ...      int32      \n",
       "---------------------------------------- ------------- ... ----------------\n",
       "                       COSMOS2015 594392   10 02 58.52 ...                1\n",
       "                SDSS J100256.53+021158.4 10 02 56.5328 ...                2\n",
       "                SDSS J100256.04+020923.2  10 02 56.045 ...                3\n",
       "                       COSMOS2015 552225   10 03 11.27 ...                4\n",
       "                SDSS J100307.82+021134.9  10 03 07.825 ...                5\n",
       "                SDSS J100252.84+021452.8  10 02 52.841 ...                6\n",
       "               [VV2006] J100309.2+022038 10 03 09.2100 ...                7\n",
       "               [VV2006] J100251.7+022905 10 02 51.6243 ...                8\n",
       "                         ACS-GC 20054580   10 02 51.34 ...                9\n",
       "                                     ...           ... ...              ...\n",
       "                       COSMOS2015 921254   09 59 38.47 ...              482\n",
       "                       COSMOS2015 910341   10 02 12.19 ...              483\n",
       "                       COSMOS2015 487018   10 01 17.37 ...              484\n",
       "CANDELS COSMOS F160W J100022.46+021413.9  10 00 22.471 ...              485\n",
       "                       COSMOS2015 681801   09 58 46.56 ...              486\n",
       "                       COSMOS2015 789561   09 58 21.32 ...              487\n",
       "                       COSMOS2015 954735   10 01 09.53 ...              488\n",
       "                       COSMOS2015 432897   10 00 59.91 ...              489\n",
       "                       COSMOS2015 973742   10 00 40.72 ...              490\n",
       "                       COSMOS2015 940746   10 00 08.44 ...              491"
      ]
     },
     "execution_count": 74,
     "metadata": {},
     "output_type": "execute_result"
    }
   ],
   "source": [
    "mask_specz = data_agn['r_z'] < 3\n",
    "\n",
    "print(len(data_agn[mask_specz]))\n",
    "\n",
    "from astroquery.simbad import Simbad\n",
    "\n",
    "# Add the redshift information\n",
    "customSimbad = Simbad()\n",
    "customSimbad.add_votable_fields('rvz_qual','rvz_wavelength','z_value')\n",
    "\n",
    "result_table = customSimbad.query_region(cat_agn, radius=0.5*u.arcsec)\n",
    "\n",
    "# Sources with RVZ_WAVELENGTH == 'O' or rvz_qual!='E' should have an optical spectrum\n",
    "print(len(result_table[result_table['RVZ_WAVELENGTH']=='O']))\n",
    "\n",
    "mask_spec_simbad = (result_table['RVZ_WAVELENGTH']=='O')\n",
    "result_table"
   ]
  },
  {
   "cell_type": "code",
   "execution_count": 86,
   "id": "palestinian-contest",
   "metadata": {},
   "outputs": [
    {
     "data": {
      "text/plain": [
       "498"
      ]
     },
     "execution_count": 86,
     "metadata": {},
     "output_type": "execute_result"
    }
   ],
   "source": [
    "len(result_table['SCRIPT_NUMBER_ID'])"
   ]
  },
  {
   "cell_type": "code",
   "execution_count": 88,
   "id": "respective-large",
   "metadata": {},
   "outputs": [
    {
     "data": {
      "text/plain": [
       "489"
      ]
     },
     "execution_count": 88,
     "metadata": {},
     "output_type": "execute_result"
    }
   ],
   "source": [
    "len(unq_cnt)"
   ]
  },
  {
   "cell_type": "code",
   "execution_count": 90,
   "id": "smaller-error",
   "metadata": {},
   "outputs": [
    {
     "data": {
      "text/html": [
       "&lt;MaskedColumn name=&apos;SCRIPT_NUMBER_ID&apos; dtype=&apos;int32&apos; length=498&gt;\n",
       "<table>\n",
       "<tr><td>1</td></tr>\n",
       "<tr><td>2</td></tr>\n",
       "<tr><td>3</td></tr>\n",
       "<tr><td>4</td></tr>\n",
       "<tr><td>5</td></tr>\n",
       "<tr><td>6</td></tr>\n",
       "<tr><td>7</td></tr>\n",
       "<tr><td>8</td></tr>\n",
       "<tr><td>9</td></tr>\n",
       "<tr><td>10</td></tr>\n",
       "<tr><td>11</td></tr>\n",
       "<tr><td>12</td></tr>\n",
       "<tr><td>...</td></tr>\n",
       "<tr><td>480</td></tr>\n",
       "<tr><td>481</td></tr>\n",
       "<tr><td>482</td></tr>\n",
       "<tr><td>483</td></tr>\n",
       "<tr><td>484</td></tr>\n",
       "<tr><td>485</td></tr>\n",
       "<tr><td>486</td></tr>\n",
       "<tr><td>487</td></tr>\n",
       "<tr><td>488</td></tr>\n",
       "<tr><td>489</td></tr>\n",
       "<tr><td>490</td></tr>\n",
       "<tr><td>491</td></tr>\n",
       "</table>"
      ],
      "text/plain": [
       "<MaskedColumn name='SCRIPT_NUMBER_ID' dtype='int32' length=498>\n",
       "  1\n",
       "  2\n",
       "  3\n",
       "  4\n",
       "  5\n",
       "  6\n",
       "  7\n",
       "  8\n",
       "  9\n",
       " 10\n",
       " 11\n",
       " 12\n",
       "...\n",
       "480\n",
       "481\n",
       "482\n",
       "483\n",
       "484\n",
       "485\n",
       "486\n",
       "487\n",
       "488\n",
       "489\n",
       "490\n",
       "491"
      ]
     },
     "execution_count": 90,
     "metadata": {},
     "output_type": "execute_result"
    }
   ],
   "source": [
    "unq, unq_idx, unq_cnt = np.unique(result_table['SCRIPT_NUMBER_ID'], return_inverse=True, return_counts=True)\n",
    "\n",
    "result_table['SCRIPT_NUMBER_ID'] #[unq_cnt>1]"
   ]
  },
  {
   "cell_type": "markdown",
   "id": "infinite-christian",
   "metadata": {},
   "source": [
    "### Add the new SIMBAD spec-z back into the table\n",
    "\n",
    "0 = SIMBAD spec-z"
   ]
  },
  {
   "cell_type": "code",
   "execution_count": 79,
   "id": "divine-wallpaper",
   "metadata": {},
   "outputs": [
    {
     "name": "stdout",
     "output_type": "stream",
     "text": [
      "387\n",
      "337\n"
     ]
    }
   ],
   "source": [
    "idx = result_table['SCRIPT_NUMBER_ID'].data.data - 1\n",
    "idx_simbad_specz = idx[(result_table['RVZ_WAVELENGTH']=='O')]\n",
    "\n",
    "data_agn_updated = data_agn.copy()\n",
    "\n",
    "#for i in idx_simbad_specz:\n",
    "for j,i in enumerate(idx_simbad_specz):\n",
    "    # Update if no existing spec-z\n",
    "    if data_agn_updated['r_z'][i] > 2:\n",
    "        data_agn_updated['r_z'][i] = 0\n",
    "        #data_agn_updated['r_z'][i] = result_table['Z_VALUE'][i]\n",
    "        data_agn_updated['r_z'][i] = result_table['Z_VALUE'][j]\n",
    "    # Check for inconsistent spec-z's...\n",
    "\n",
    "mask_specz_updated = data_agn_updated['r_z'] < 3\n",
    "print(len(data_agn_updated[mask_specz_updated]))\n",
    "mask_specz = data_agn['r_z'] < 3\n",
    "print(len(data_agn[mask_specz]))\n",
    "\n",
    "data_agn_updated.write('hsc_agn_updated.txt', format='ascii', overwrite=True)"
   ]
  },
  {
   "cell_type": "code",
   "execution_count": 76,
   "id": "advised-leader",
   "metadata": {},
   "outputs": [
    {
     "data": {
      "text/plain": [
       "<matplotlib.legend.Legend at 0x7f411051fbd0>"
      ]
     },
     "execution_count": 76,
     "metadata": {},
     "output_type": "execute_result"
    },
    {
     "data": {
      "image/png": "[encoded data removed]",
      "text/plain": [
       "<Figure size 576x432 with 1 Axes>"
      ]
     },
     "metadata": {
      "needs_background": "light"
     },
     "output_type": "display_data"
    }
   ],
   "source": [
    "mask_specz_updated = data_agn_updated['r_z'] < 3\n",
    "plt.hist(data_agn_updated['i-mag'], label='everything')\n",
    "plt.hist(data_agn_updated['i-mag'][mask_specz_updated], label='additional spec-z from SIMBAD')\n",
    "mask_specz = data_agn['r_z'] < 3\n",
    "plt.hist(data_agn['i-mag'][mask_specz], label='spec-z')\n",
    "plt.xlabel('i-mag')\n",
    "plt.legend(frameon=True, loc=4)"
   ]
  },
  {
   "cell_type": "markdown",
   "id": "effective-butterfly",
   "metadata": {},
   "source": [
    "### Manually inspect the inconsistent spec-zs"
   ]
  },
  {
   "cell_type": "code",
   "execution_count": 77,
   "id": "looking-lottery",
   "metadata": {},
   "outputs": [
    {
     "data": {
      "text/plain": [
       "<matplotlib.legend.Legend at 0x7f4110393590>"
      ]
     },
     "execution_count": 77,
     "metadata": {},
     "output_type": "execute_result"
    },
    {
     "data": {
      "image/png": "[encoded data removed]",
      "text/plain": [
       "<Figure size 576x432 with 1 Axes>"
      ]
     },
     "metadata": {
      "needs_background": "light"
     },
     "output_type": "display_data"
    }
   ],
   "source": [
    "plt.scatter(data_agn['z'], data_agn_updated['z'], label='spec-z')\n",
    "plt.scatter(data_agn['z'][mask_specz_updated], data_agn_updated['z'][mask_specz_updated])\n",
    "plt.scatter(data_agn['z'][mask_specz & mask_specz_updated], data_agn_updated['z'][mask_specz & mask_specz_updated], label='updated spec-z')\n",
    "plt.xlabel('HSC z')\n",
    "plt.ylabel('SIMBAD z')\n",
    "plt.legend(frameon=True)"
   ]
  },
  {
   "cell_type": "markdown",
   "id": "joint-jefferson",
   "metadata": {},
   "source": [
    "### Download the spectra"
   ]
  },
  {
   "cell_type": "code",
   "execution_count": null,
   "id": "related-portsmouth",
   "metadata": {},
   "outputs": [],
   "source": []
  },
  {
   "cell_type": "code",
   "execution_count": 168,
   "id": "surprised-creation",
   "metadata": {},
   "outputs": [],
   "source": [
    "# Charlotte has already done SDSS - nice!\n",
    "\n",
    "# Will add the other ones (XMM-spec, Caltech COSMOS Magellen etc,)"
   ]
  },
  {
   "cell_type": "code",
   "execution_count": null,
   "id": "dominant-dream",
   "metadata": {},
   "outputs": [],
   "source": []
  }
 ],
 "metadata": {
  "kernelspec": {
   "display_name": "Python 3",
   "language": "python",
   "name": "python3"
  },
  "language_info": {
   "codemirror_mode": {
    "name": "ipython",
    "version": 3
   },
   "file_extension": ".py",
   "mimetype": "text/x-python",
   "name": "python",
   "nbconvert_exporter": "python",
   "pygments_lexer": "ipython3",
   "version": "3.7.15"
  }
 },
 "nbformat": 4,
 "nbformat_minor": 5
}
