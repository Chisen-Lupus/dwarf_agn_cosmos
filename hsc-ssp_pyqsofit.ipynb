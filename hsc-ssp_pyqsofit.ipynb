{
 "cells": [
  {
   "cell_type": "code",
   "execution_count": 1,
   "id": "cf6fa125-674b-4eec-8a50-6eb69784dea0",
   "metadata": {},
   "outputs": [],
   "source": [
    "%matplotlib inline\n",
    "import sys, os, glob\n",
    "\n",
    "from astropy.io import fits, ascii\n",
    "\n",
    "import numpy as np\n",
    "import matplotlib.pyplot as plt\n",
    "from astropy import units as u\n",
    "import astropy.constants as const\n",
    "from astropy.coordinates import SkyCoord, concatenate\n",
    "from astropy import table"
   ]
  },
  {
   "cell_type": "code",
   "execution_count": 2,
   "id": "5151f4be-e909-4a57-97f6-5aa147baed95",
   "metadata": {},
   "outputs": [],
   "source": [
    "import scienceplots\n",
    "\n",
    "plt.style.use([ 'bright', 'science', 'no-latex', 'notebook'])"
   ]
  },
  {
   "cell_type": "code",
   "execution_count": 5,
   "id": "6c688fe3-3773-4e8a-91ba-71ce93f3bbfb",
   "metadata": {},
   "outputs": [
    {
     "ename": "ModuleNotFoundError",
     "evalue": "No module named 'pyqsofit'",
     "output_type": "error",
     "traceback": [
      "\u001b[0;31m---------------------------------------------------------------------------\u001b[0m",
      "\u001b[0;31mModuleNotFoundError\u001b[0m                       Traceback (most recent call last)",
      "Cell \u001b[0;32mIn[5], line 1\u001b[0m\n\u001b[0;32m----> 1\u001b[0m \u001b[38;5;28;01mfrom\u001b[39;00m \u001b[38;5;21;01mpyqsofit\u001b[39;00m\u001b[38;5;21;01m.\u001b[39;00m\u001b[38;5;21;01mPyQSOFit\u001b[39;00m \u001b[38;5;28;01mimport\u001b[39;00m QSOFit\n",
      "\u001b[0;31mModuleNotFoundError\u001b[0m: No module named 'pyqsofit'"
     ]
    }
   ],
   "source": [
    "from pyqsofit.PyQSOFit import QSOFit"
   ]
  },
  {
   "cell_type": "code",
   "execution_count": null,
   "id": "cf8c2ce1-6c41-4b87-9ff0-5a01b6b65a42",
   "metadata": {},
   "outputs": [],
   "source": []
  }
 ],
 "metadata": {
  "kernelspec": {
   "display_name": "Python 3 (ipykernel)",
   "language": "python",
   "name": "python3"
  },
  "language_info": {
   "codemirror_mode": {
    "name": "ipython",
    "version": 3
   },
   "file_extension": ".py",
   "mimetype": "text/x-python",
   "name": "python",
   "nbconvert_exporter": "python",
   "pygments_lexer": "ipython3",
   "version": "3.11.4"
  }
 },
 "nbformat": 4,
 "nbformat_minor": 5
}
